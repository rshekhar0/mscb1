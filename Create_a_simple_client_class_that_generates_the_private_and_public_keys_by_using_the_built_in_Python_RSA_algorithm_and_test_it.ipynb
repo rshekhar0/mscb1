{
  "nbformat": 4,
  "nbformat_minor": 0,
  "metadata": {
    "colab": {
      "provenance": [],
      "authorship_tag": "ABX9TyPqfNr9nHfG2EmRYeqvsqTg",
      "include_colab_link": true
    },
    "kernelspec": {
      "name": "python3",
      "display_name": "Python 3"
    },
    "language_info": {
      "name": "python"
    }
  },
  "cells": [
    {
      "cell_type": "markdown",
      "metadata": {
        "id": "view-in-github",
        "colab_type": "text"
      },
      "source": [
        "<a href=\"https://colab.research.google.com/github/rshekhar0/mscb1/blob/main/Create_a_simple_client_class_that_generates_the_private_and_public_keys_by_using_the_built_in_Python_RSA_algorithm_and_test_it.ipynb\" target=\"_parent\"><img src=\"https://colab.research.google.com/assets/colab-badge.svg\" alt=\"Open In Colab\"/></a>"
      ]
    },
    {
      "cell_type": "code",
      "execution_count": 2,
      "metadata": {
        "colab": {
          "base_uri": "https://localhost:8080/"
        },
        "id": "8zvDVa5G_qq6",
        "outputId": "565f6313-6d5d-455e-c553-79e1b8a4ae48"
      },
      "outputs": [
        {
          "output_type": "stream",
          "name": "stdout",
          "text": [
            "Collecting pycryptodome\n",
            "  Downloading pycryptodome-3.20.0-cp35-abi3-manylinux_2_17_x86_64.manylinux2014_x86_64.whl (2.1 MB)\n",
            "\u001b[2K     \u001b[90m━━━━━━━━━━━━━━━━━━━━━━━━━━━━━━━━━━━━━━━━\u001b[0m \u001b[32m2.1/2.1 MB\u001b[0m \u001b[31m18.5 MB/s\u001b[0m eta \u001b[36m0:00:00\u001b[0m\n",
            "\u001b[?25hInstalling collected packages: pycryptodome\n",
            "Successfully installed pycryptodome-3.20.0\n"
          ]
        }
      ],
      "source": [
        "!pip install pycryptodome"
      ]
    },
    {
      "cell_type": "code",
      "source": [
        "import binascii  # Importing binascii module for binary-to-ASCII conversion\n",
        "from Crypto.PublicKey import RSA  # Importing RSA class from Crypto.PublicKey module for RSA key generation\n",
        "from Crypto.Signature import PKCS1_v1_5  # Importing PKCS1_v1_5 class from Crypto.Signature module for RSA signature\n",
        "import Crypto.Random  # Importing Random module from Crypto package for generating random data\n",
        "\n",
        "class Client:\n",
        "    def __init__(self):\n",
        "        random = Crypto.Random.new().read  # Generating random data using Crypto.Random\n",
        "        self._private_key = RSA.generate(1024, random)  # Generating a private RSA key of 1024 bits length\n",
        "        self._public_key = self._private_key.publickey()  # Extracting the public key from the private key\n",
        "        self._signer = PKCS1_v1_5.new(self._private_key)  # Creating a signer object with the private key\n",
        "\n",
        "    @property\n",
        "    def identity(self):\n",
        "        # Converting the public key to DER format, then converting it to ASCII hex representation\n",
        "        return binascii.hexlify(self._public_key.exportKey(format=\"DER\")).decode(\"ascii\")\n",
        "\n",
        "Rahul = Client()  # Creating an instance of the Client class\n",
        "print(\"\\n Public Key:\", Rahul.identity)  # Printing the hex representation of the public key\n"
      ],
      "metadata": {
        "colab": {
          "base_uri": "https://localhost:8080/"
        },
        "id": "9ocIxk4uA6V7",
        "outputId": "607dadf3-90a3-4813-8723-c2e418cb339d"
      },
      "execution_count": 5,
      "outputs": [
        {
          "output_type": "stream",
          "name": "stdout",
          "text": [
            "\n",
            " Public Key: 30819f300d06092a864886f70d010101050003818d00308189028181009ba42c062528500ecd59ec32d641f9e96dcbcdb771835edcd106a091edb9f8e2592ec4ebf63395d8060015d64ae73820fdac6b46c9b9d2fc92133088e674c4ee9aafc5e1b004be580ead4d95508313007fbb966954d28c9684c30f0692ff8bb75aaca1632c86378cff1a694a99e5b02d883b8bde0ac5e8d456769c1528b2b1170203010001\n"
          ]
        }
      ]
    }
  ]
}