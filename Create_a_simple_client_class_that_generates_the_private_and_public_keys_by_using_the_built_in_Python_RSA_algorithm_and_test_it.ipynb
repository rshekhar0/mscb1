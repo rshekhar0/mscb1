{
  "nbformat": 4,
  "nbformat_minor": 0,
  "metadata": {
    "colab": {
      "provenance": [],
      "authorship_tag": "ABX9TyPyQmZ+q9TVIgQrWk6WLgDL",
      "include_colab_link": true
    },
    "kernelspec": {
      "name": "python3",
      "display_name": "Python 3"
    },
    "language_info": {
      "name": "python"
    }
  },
  "cells": [
    {
      "cell_type": "markdown",
      "metadata": {
        "id": "view-in-github",
        "colab_type": "text"
      },
      "source": [
        "<a href=\"https://colab.research.google.com/github/rshekhar0/mscb1/blob/main/Create_a_simple_client_class_that_generates_the_private_and_public_keys_by_using_the_built_in_Python_RSA_algorithm_and_test_it.ipynb\" target=\"_parent\"><img src=\"https://colab.research.google.com/assets/colab-badge.svg\" alt=\"Open In Colab\"/></a>"
      ]
    },
    {
      "cell_type": "code",
      "execution_count": 2,
      "metadata": {
        "colab": {
          "base_uri": "https://localhost:8080/"
        },
        "id": "8zvDVa5G_qq6",
        "outputId": "565f6313-6d5d-455e-c553-79e1b8a4ae48"
      },
      "outputs": [
        {
          "output_type": "stream",
          "name": "stdout",
          "text": [
            "Collecting pycryptodome\n",
            "  Downloading pycryptodome-3.20.0-cp35-abi3-manylinux_2_17_x86_64.manylinux2014_x86_64.whl (2.1 MB)\n",
            "\u001b[2K     \u001b[90m━━━━━━━━━━━━━━━━━━━━━━━━━━━━━━━━━━━━━━━━\u001b[0m \u001b[32m2.1/2.1 MB\u001b[0m \u001b[31m18.5 MB/s\u001b[0m eta \u001b[36m0:00:00\u001b[0m\n",
            "\u001b[?25hInstalling collected packages: pycryptodome\n",
            "Successfully installed pycryptodome-3.20.0\n"
          ]
        }
      ],
      "source": [
        "!pip install pycryptodome"
      ]
    },
    {
      "cell_type": "code",
      "source": [
        "import binascii  # Importing binascii module for binary-to-ASCII conversion\n",
        "from Crypto.PublicKey import RSA  # Importing RSA class from Crypto.PublicKey module for RSA key generation\n",
        "from Crypto.Signature import PKCS1_v1_5  # Importing PKCS1_v1_5 class from Crypto.Signature module for RSA signature\n",
        "import Crypto.Random  # Importing Random module from Crypto package for generating random data\n",
        "\n",
        "class Client:\n",
        "    def __init__(self):\n",
        "        random = Crypto.Random.new().read  # Generating random data using Crypto.Random\n",
        "        self._private_key = RSA.generate(1024, random)  # Generating a private RSA key of 1024 bits length\n",
        "        self._public_key = self._private_key.publickey()  # Extracting the public key from the private key\n",
        "        self._signer = PKCS1_v1_5.new(self._private_key)  # Creating a signer object with the private key\n",
        "\n",
        "    @property\n",
        "    def identity(self):\n",
        "        # Converting the public key to DER format, then converting it to ASCII hex representation\n",
        "        return binascii.hexlify(self._public_key.exportKey(format=\"DER\")).decode(\"ascii\")\n",
        "\n",
        "Dinesh = Client()  # Creating an instance of the Client class\n",
        "print(\"\\n Public Key:\", Dinesh.identity)  # Printing the hex representation of the public key\n"
      ],
      "metadata": {
        "colab": {
          "base_uri": "https://localhost:8080/"
        },
        "id": "9ocIxk4uA6V7",
        "outputId": "1f8c0d1d-1454-4818-8e90-001d80f4380a"
      },
      "execution_count": 4,
      "outputs": [
        {
          "output_type": "stream",
          "name": "stdout",
          "text": [
            "\n",
            " Public Key: 30819f300d06092a864886f70d010101050003818d0030818902818100beb652518d1f1e40f140f53c1e2792717ff7899aad67a740fef3f9df8dd7724bbab26b246777049b3eb993464c74c7a18f0f81425e9d3ee169d84948873c359053dd254c676a4e63a7a532bc20486333cbdadd2023f02596d18c6752dcf3218a43a341e9f34f5346396298fb32640005622060cd42f63b56d316403823810f3f0203010001\n"
          ]
        }
      ]
    }
  ]
}