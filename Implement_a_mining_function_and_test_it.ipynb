{
  "nbformat": 4,
  "nbformat_minor": 0,
  "metadata": {
    "colab": {
      "provenance": [],
      "authorship_tag": "ABX9TyMOODsguWaIy3gL6e8pSBMW",
      "include_colab_link": true
    },
    "kernelspec": {
      "name": "python3",
      "display_name": "Python 3"
    },
    "language_info": {
      "name": "python"
    }
  },
  "cells": [
    {
      "cell_type": "markdown",
      "metadata": {
        "id": "view-in-github",
        "colab_type": "text"
      },
      "source": [
        "<a href=\"https://colab.research.google.com/github/rshekhar0/mscb1/blob/main/Implement_a_mining_function_and_test_it.ipynb\" target=\"_parent\"><img src=\"https://colab.research.google.com/assets/colab-badge.svg\" alt=\"Open In Colab\"/></a>"
      ]
    },
    {
      "cell_type": "code",
      "source": [
        "import hashlib  # Importing the hashlib module for cryptographic hashing functions\n",
        "\n",
        "def sha256(message):\n",
        "    \"\"\"\n",
        "    Function to calculate the SHA-256 hash of a message\n",
        "    \"\"\"\n",
        "    return hashlib.sha256(message.encode(\"ascii\")).hexdigest()\n",
        "\n",
        "def mine(message, difficulty=1):\n",
        "    \"\"\"\n",
        "    Function to perform mining to find a hash with a certain difficulty level\n",
        "    \"\"\"\n",
        "    assert difficulty >= 1  # Corrected assertion to ensure the difficulty is greater than or equal to 1\n",
        "    prefix = \"1\" * difficulty  # Construct the prefix based on the difficulty level\n",
        "    for i in range(1000):\n",
        "        digest = sha256(str(hash(message)) + str(i))  # Calculate the hash of the message with nonce i\n",
        "        if digest.startswith(prefix):  # Check if the hash meets the required difficulty level\n",
        "            print(f\"After {str(i)} iterations found nonce: {digest}\")  # Print the result if a suitable hash is found\n",
        "            break  # Exit the loop once a suitable hash is found\n",
        "\n",
        "# Call the mine function with a test message and difficulty level 2\n",
        "mine(\"test message\", 2)\n"
      ],
      "metadata": {
        "colab": {
          "base_uri": "https://localhost:8080/"
        },
        "id": "9ocIxk4uA6V7",
        "outputId": "28109273-8a0f-4ad2-ae27-ee639a774231"
      },
      "execution_count": 41,
      "outputs": [
        {
          "output_type": "stream",
          "name": "stdout",
          "text": [
            "After 86 iterations found nonce: 11049fad824d1a56174199a955dc7fbe92cabd1e13bce264f8be7b56313361e3\n"
          ]
        }
      ]
    }
  ]
}