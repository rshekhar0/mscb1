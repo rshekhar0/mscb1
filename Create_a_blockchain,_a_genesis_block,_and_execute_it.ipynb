{
  "nbformat": 4,
  "nbformat_minor": 0,
  "metadata": {
    "colab": {
      "provenance": [],
      "authorship_tag": "ABX9TyNX/Oq2uJ8/tniJFJs2eMb5",
      "include_colab_link": true
    },
    "kernelspec": {
      "name": "python3",
      "display_name": "Python 3"
    },
    "language_info": {
      "name": "python"
    }
  },
  "cells": [
    {
      "cell_type": "markdown",
      "metadata": {
        "id": "view-in-github",
        "colab_type": "text"
      },
      "source": [
        "<a href=\"https://colab.research.google.com/github/rshekhar0/mscb1/blob/main/Create_a_blockchain%2C_a_genesis_block%2C_and_execute_it.ipynb\" target=\"_parent\"><img src=\"https://colab.research.google.com/assets/colab-badge.svg\" alt=\"Open In Colab\"/></a>"
      ]
    },
    {
      "cell_type": "code",
      "source": [
        "import Crypto  # Importing the Crypto module for cryptographic functions\n",
        "import binascii  # Importing the binascii module for binary-to-ASCII conversion\n",
        "import datetime  # Importing the datetime module for handling date and time\n",
        "import collections  # Importing the collections module for OrderedDict\n",
        "\n",
        "from Crypto.PublicKey import RSA  # Importing the RSA class from the Crypto.PublicKey module for RSA key generation\n",
        "from Crypto.Hash import SHA  # Importing the SHA hashing algorithm from the Crypto.Hash module\n",
        "from Crypto.Signature import PKCS1_v1_5  # Importing the PKCS1_v1_5 class from the Crypto.Signature module for RSA signature\n",
        "\n",
        "class Client:\n",
        "    \"\"\"\n",
        "    Class representing a client with RSA key pair\n",
        "    \"\"\"\n",
        "    def __init__(self):\n",
        "        # Creating random number for key\n",
        "        random = Crypto.Random.new().read\n",
        "        # Creating new public key and private key\n",
        "        self._private_key = RSA.generate(1024, random)\n",
        "        self._public_key = self._private_key.publickey()\n",
        "        self._signer = PKCS1_v1_5.new(self._private_key)\n",
        "\n",
        "    @property\n",
        "    def identity(self):\n",
        "        # Converting the public key to DER format, then converting it to ASCII hex representation\n",
        "        return binascii.hexlify(self._public_key.exportKey(format=\"DER\")).decode(\"ascii\")\n",
        "\n",
        "\n",
        "class Transaction:\n",
        "    \"\"\"\n",
        "    Class representing a transaction between two clients\n",
        "    \"\"\"\n",
        "    def __init__(self, sender, receiver, value):\n",
        "        self.sender = sender\n",
        "        self.receiver = receiver\n",
        "        self.value = value\n",
        "        self.time = datetime.datetime.now()\n",
        "\n",
        "    def to_dict(self):\n",
        "        # Create an ordered dictionary with transaction details\n",
        "        if self.sender == \"Genesis\":\n",
        "            identity = \"Genesis\"\n",
        "        else:\n",
        "            identity = self.sender.identity\n",
        "\n",
        "        return collections.OrderedDict(\n",
        "            {\n",
        "                \"sender\": identity,\n",
        "                \"receiver\": self.receiver,\n",
        "                \"value\": self.value,\n",
        "                \"time\": self.time,\n",
        "            }\n",
        "        )\n",
        "\n",
        "    def sign_transaction(self):\n",
        "        # Sign the transaction using the sender's private key\n",
        "        private_key = self.sender._private_key\n",
        "        signer = PKCS1_v1_5.new(private_key)\n",
        "        h = SHA.new(str(self.to_dict()).encode(\"utf8\"))\n",
        "        return binascii.hexlify(signer.sign(h)).decode(\"ascii\")\n",
        "\n",
        "\n",
        "class Block:\n",
        "    \"\"\"\n",
        "    Class representing a block in the blockchain\n",
        "    \"\"\"\n",
        "    def __init__(self):\n",
        "        self.verified_transactions = []  # List of verified transactions\n",
        "        self.previous_block_hash = \"\"  # Hash of the previous block\n",
        "        self.Nonce = \"\"  # Nonce value for proof of work\n",
        "\n",
        "    @staticmethod\n",
        "    def display_transaction(transaction):\n",
        "        # Display details of a transaction\n",
        "        dict_data = transaction.to_dict()\n",
        "        print(\"Sender: \" + dict_data[\"sender\"])\n",
        "        print(\"Receiver: \" + dict_data[\"receiver\"])\n",
        "        print(\"Value: \" + str(dict_data[\"value\"]))\n",
        "        print(\"Time: \" + str(dict_data[\"time\"]))\n",
        "\n",
        "# Create a client\n",
        "Rahul = Client()\n",
        "\n",
        "# Create a genesis transaction\n",
        "t0 = Transaction(\"Genesis\", Rahul.identity, 500.0)\n",
        "\n",
        "# Create a genesis block\n",
        "block0 = Block()\n",
        "block0.previous_block_hash = None\n",
        "block0.verified_transactions.append(t0)\n",
        "TPCoins = [block0]  # List to store blocks\n",
        "\n",
        "def dump_blockchain(blocks):\n",
        "    \"\"\"\n",
        "    Function to dump the blockchain\n",
        "    \"\"\"\n",
        "    print(\"Number of blocks in chain: \" + str(len(blocks)))\n",
        "    for block_index, block in enumerate(blocks):\n",
        "        print(\"Block #\" + str(block_index))\n",
        "        for transaction in block.verified_transactions:\n",
        "            Block.display_transaction(transaction)\n",
        "            print(\"-\" * 20)\n",
        "        print(\"=\" * 30)\n",
        "\n",
        "# Dump the blockchain\n",
        "dump_blockchain(TPCoins)\n"
      ],
      "metadata": {
        "colab": {
          "base_uri": "https://localhost:8080/"
        },
        "id": "9ocIxk4uA6V7",
        "outputId": "be62ba83-ec30-445d-a714-88ad1e6e09eb"
      },
      "execution_count": 27,
      "outputs": [
        {
          "output_type": "stream",
          "name": "stdout",
          "text": [
            "Number of blocks in chain: 1\n",
            "Block #0\n",
            "Sender: Genesis\n",
            "Receiver: 30819f300d06092a864886f70d010101050003818d0030818902818100c9cc92454c1d9117ce648eb96dc4a117d986040ebd2a696b4ba902f2eb8547e0446d66d7db536b98f59834f319c80bbee9adb6f53ca78dab5b000bd35c4e0b77f1ccb28a13f8ab4c728f4efcb416c95357aa4e683314a80e6418cf0870e4e4183b292226ef44b6d14e15069662ac004cfa56488613150b490976938476635cc30203010001\n",
            "Value: 500.0\n",
            "Time: 2024-05-10 01:41:54.819537\n",
            "--------------------\n",
            "==============================\n"
          ]
        }
      ]
    }
  ]
}