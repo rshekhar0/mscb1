{
  "nbformat": 4,
  "nbformat_minor": 0,
  "metadata": {
    "colab": {
      "provenance": [],
      "authorship_tag": "ABX9TyOiXlxRNqgYorHmAfRvHbD1",
      "include_colab_link": true
    },
    "kernelspec": {
      "name": "python3",
      "display_name": "Python 3"
    },
    "language_info": {
      "name": "python"
    }
  },
  "cells": [
    {
      "cell_type": "markdown",
      "metadata": {
        "id": "view-in-github",
        "colab_type": "text"
      },
      "source": [
        "<a href=\"https://colab.research.google.com/github/rshekhar0/mscb1/blob/main/Develop_a_transaction_class_to_send_and_receive_money_and_test_it.ipynb\" target=\"_parent\"><img src=\"https://colab.research.google.com/assets/colab-badge.svg\" alt=\"Open In Colab\"/></a>"
      ]
    },
    {
      "cell_type": "code",
      "source": [
        "import Crypto  # Importing the Crypto module for cryptographic functions\n",
        "import binascii  # Importing the binascii module for binary-to-ASCII conversion\n",
        "import datetime  # Importing the datetime module for handling date and time\n",
        "import collections  # Importing the collections module for OrderedDict\n",
        "\n",
        "from Crypto.PublicKey import RSA  # Importing the RSA class from the Crypto.PublicKey module for RSA key generation\n",
        "from Crypto.Signature import PKCS1_v1_5  # Importing the PKCS1_v1_5 class from the Crypto.Signature module for RSA signature\n",
        "from Crypto.Hash import SHA  # Importing the SHA hashing algorithm from the Crypto.Hash module\n",
        "\n",
        "class Client:\n",
        "    def __init__(self):\n",
        "        # Creating a random number for key generation\n",
        "        random = Crypto.Random.new().read\n",
        "        # Generating a new public key and private key\n",
        "        self._private_key = RSA.generate(1024, random)\n",
        "        self._public_key = self._private_key.publickey()\n",
        "        self._signer = PKCS1_v1_5.new(self._private_key)\n",
        "\n",
        "    @property\n",
        "    def identity(self):\n",
        "        # Converting the public key to DER format, then converting it to ASCII hex representation\n",
        "        return binascii.hexlify(self._public_key.exportKey(format='DER')).decode('ascii')\n",
        "\n",
        "class Transaction:\n",
        "    def __init__(self, sender, receiver, value):\n",
        "        self.sender = sender  # Setting the sender of the transaction\n",
        "        self.receiver = receiver  # Setting the receiver of the transaction\n",
        "        self.value = value  # Setting the value of the transaction\n",
        "        self.time = datetime.datetime.now()  # Getting the current date and time\n",
        "\n",
        "    def to_dict(self):\n",
        "        # Checking if the sender is \"Genesis\"; if so, setting identity as \"Genesis\", else getting sender's identity\n",
        "        if self.sender == \"Genesis\":\n",
        "            identity = \"Genesis\"\n",
        "        else:\n",
        "            identity = self.sender.identity\n",
        "\n",
        "        # Creating an ordered dictionary with transaction details\n",
        "        return collections.OrderedDict({\n",
        "            'sender': identity,\n",
        "            'receiver': self.receiver,\n",
        "            'value': self.value,\n",
        "            'time': self.time\n",
        "        })\n",
        "\n",
        "    def sign_transaction(self):\n",
        "        private_key = self.sender._private_key  # Getting the sender's private key\n",
        "        signer = PKCS1_v1_5.new(private_key)  # Creating a signer object with the sender's private key\n",
        "        h = SHA.new(str(self.to_dict()).encode('utf8'))  # Hashing the transaction details\n",
        "        return binascii.hexlify(signer.sign(h)).decode('ascii')  # Signing the hash and returning the signature\n",
        "\n",
        "Rahul = Client()  # Creating an instance of the Client class\n",
        "print(\"-\"*50)\n",
        "print(\"Rahul Key\")\n",
        "print(Rahul.identity)  # Printing Rahul's public key\n",
        "\n",
        "Golu = Client()  # Creating another instance of the Client class\n",
        "print(\"-\"*50)\n",
        "print(\"Golu Key\")\n",
        "print(Golu.identity)  # Printing Golu's public key\n",
        "\n",
        "t = Transaction(Rahul, Golu.identity, 10.0)  # Creating a transaction instance\n",
        "print(\"-\"*50)\n",
        "print(\"Transaction Sign\")\n",
        "signature = t.sign_transaction()  # Generating the transaction signature\n",
        "print(signature)  # Printing the transaction signature\n",
        "print(\"-\"*50)\n"
      ],
      "metadata": {
        "colab": {
          "base_uri": "https://localhost:8080/"
        },
        "id": "9ocIxk4uA6V7",
        "outputId": "b5d032e8-1a33-48d9-84ec-691a677fcc7c"
      },
      "execution_count": 10,
      "outputs": [
        {
          "output_type": "stream",
          "name": "stdout",
          "text": [
            "--------------------------------------------------\n",
            "Rahul Key\n",
            "30819f300d06092a864886f70d010101050003818d0030818902818100cd76cbcebb2b65fba26f0803fb5bea112445c16fa166e95b9f9d2ddac9801b2fdd94f14179f1a9e41a87d70ccd1ecd73bdfdded28217f1b309ed63b97084a757bf5350b31670e052449c40b72ea7764357fd1dd5f348f3d33c791ee4fe924a948690fbf43445feedc2c52e0a6648287cd9bea26762f9df3c98f9e6666e5d676f0203010001\n",
            "--------------------------------------------------\n",
            "Golu Key\n",
            "30819f300d06092a864886f70d010101050003818d0030818902818100a6c39637dc8653833cc664be60d3391e4ae34b1af9456320a4a3446d42a892789b255d47c6949aace829f5917d8a498522be8fe2db57ab1b7568dc07be51c78008282f1ae652ade36237bf678516557fb08600763e04373bf94108903f8958a45de49f31f96c419ed9d45bea1780c3c8a61e7a328512f86e34d4a8320046aa250203010001\n",
            "--------------------------------------------------\n",
            "Transaction Sign\n",
            "59c4db93fe64967e3b11db6f8226821a1b17a25c3134f60261ce97aa1f5686620ceed9705d69bf7c0e41ce09c082f3c0bc556ff60c7e446e3bffd7e5e895bc3e00d4b9a46bb090aebe05d459a3e1933fd99a4dc987e155767d505c2a5f98e2d67cfeaea997d06e93484ea7fbde7180c08bfe8fbedc9c315913a2941c40c25c0c\n",
            "--------------------------------------------------\n"
          ]
        }
      ]
    }
  ]
}